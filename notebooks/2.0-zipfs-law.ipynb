{
 "cells": [
  {
   "cell_type": "markdown",
   "metadata": {},
   "source": [
    "# Zipf's Law"
   ]
  },
  {
   "cell_type": "markdown",
   "metadata": {},
   "source": [
    "[Zipf's law](https://en.wikipedia.org/wiki/Zipf%27s_law) is an empirical law formulated using mathematical statistics. The law is named after the linguist George Kingsley Zipf, who first proposed it\n",
    "\n",
    "Zipf's law states that given some corpus of natural language utterances, the frequency of any word is inversely proportional to its rank in the frequency table. Thus the most frequent word will occur approximately twice as often as the second most frequent word, three times as often as the third most frequent word, etc. Another way to state Zipf's law is: small number of words are used all the time, while majority of words are used rarely\n",
    "\n",
    "We want to see if Amazon reviews corpus follows Zipf's law."
   ]
  },
  {
   "cell_type": "code",
   "execution_count": 1,
   "metadata": {},
   "outputs": [],
   "source": [
    "# Setup code\n",
    "import numpy as np\n",
    "import pandas as pd\n",
    "import matplotlib.pyplot as plt\n",
    "\n",
    "%matplotlib inline\n",
    "plt.style.use('ggplot')"
   ]
  },
  {
   "cell_type": "markdown",
   "metadata": {},
   "source": [
    "# Load corpus\n",
    "\n",
    "We load all train reviews (~3.6M reviews) and do some basic cleaning."
   ]
  },
  {
   "cell_type": "code",
   "execution_count": 2,
   "metadata": {},
   "outputs": [
    {
     "name": "stdout",
     "output_type": "stream",
     "text": [
      "\n",
      "-- Loading dataset\n",
      "-- Cleaning dataset\n"
     ]
    }
   ],
   "source": [
    "from src.data.loaders import load_and_clean_data\n",
    "from src.data.preprocessor import Options\n",
    "from src.definitions import TRAIN_PATH\n",
    "\n",
    "ROWS = None # Load all reviews\n",
    "\n",
    "options = (\n",
    "    Options.EMAILS,\n",
    "    Options.EMOTICONS,\n",
    "    Options.PUNCTUATION,\n",
    "    Options.REPEATING_VOWELS,\n",
    "    Options.URLS\n",
    ")\n",
    "\n",
    "reviews, _ = load_and_clean_data(path=TRAIN_PATH, options=options, nrows=ROWS)"
   ]
  },
  {
   "cell_type": "markdown",
   "metadata": {},
   "source": [
    "# Form word frequency matrix"
   ]
  },
  {
   "cell_type": "code",
   "execution_count": 3,
   "metadata": {},
   "outputs": [
    {
     "name": "stdout",
     "output_type": "stream",
     "text": [
      "Total words: 2242816\n"
     ]
    }
   ],
   "source": [
    "from sklearn.feature_extraction.text import CountVectorizer\n",
    "\n",
    "vectorizer = CountVectorizer()\n",
    "vectorizer.fit(reviews)\n",
    "\n",
    "print('Total words: {}'.format(len(vectorizer.get_feature_names())))\n",
    "\n",
    "reviews_matrix = vectorizer.transform(reviews)\n",
    "word_count = np.sum(reviews_matrix, axis=0)\n",
    "word_count = np.squeeze(np.asarray(word_count))\n",
    "\n",
    "df = pd.DataFrame([word_count], columns=vectorizer.get_feature_names()).transpose()\n",
    "df.rename({0: 'Count'}, axis='columns', inplace=True)\n",
    "df.sort_values(['Count'], ascending=False, inplace=True)"
   ]
  },
  {
   "cell_type": "code",
   "execution_count": 4,
   "metadata": {},
   "outputs": [
    {
     "data": {
      "text/html": [
       "<div>\n",
       "<style scoped>\n",
       "    .dataframe tbody tr th:only-of-type {\n",
       "        vertical-align: middle;\n",
       "    }\n",
       "\n",
       "    .dataframe tbody tr th {\n",
       "        vertical-align: top;\n",
       "    }\n",
       "\n",
       "    .dataframe thead th {\n",
       "        text-align: right;\n",
       "    }\n",
       "</style>\n",
       "<table border=\"1\" class=\"dataframe\">\n",
       "  <thead>\n",
       "    <tr style=\"text-align: right;\">\n",
       "      <th></th>\n",
       "      <th>Count</th>\n",
       "    </tr>\n",
       "  </thead>\n",
       "  <tbody>\n",
       "    <tr>\n",
       "      <th>the</th>\n",
       "      <td>14154918</td>\n",
       "    </tr>\n",
       "    <tr>\n",
       "      <th>and</th>\n",
       "      <td>7638266</td>\n",
       "    </tr>\n",
       "    <tr>\n",
       "      <th>to</th>\n",
       "      <td>6908092</td>\n",
       "    </tr>\n",
       "    <tr>\n",
       "      <th>of</th>\n",
       "      <td>5651302</td>\n",
       "    </tr>\n",
       "    <tr>\n",
       "      <th>it</th>\n",
       "      <td>5643243</td>\n",
       "    </tr>\n",
       "    <tr>\n",
       "      <th>this</th>\n",
       "      <td>5208409</td>\n",
       "    </tr>\n",
       "    <tr>\n",
       "      <th>is</th>\n",
       "      <td>4964241</td>\n",
       "    </tr>\n",
       "    <tr>\n",
       "      <th>in</th>\n",
       "      <td>3283363</td>\n",
       "    </tr>\n",
       "    <tr>\n",
       "      <th>for</th>\n",
       "      <td>3144829</td>\n",
       "    </tr>\n",
       "    <tr>\n",
       "      <th>that</th>\n",
       "      <td>2772709</td>\n",
       "    </tr>\n",
       "    <tr>\n",
       "      <th>was</th>\n",
       "      <td>2407265</td>\n",
       "    </tr>\n",
       "    <tr>\n",
       "      <th>not</th>\n",
       "      <td>2315598</td>\n",
       "    </tr>\n",
       "    <tr>\n",
       "      <th>you</th>\n",
       "      <td>2238534</td>\n",
       "    </tr>\n",
       "    <tr>\n",
       "      <th>with</th>\n",
       "      <td>2065733</td>\n",
       "    </tr>\n",
       "    <tr>\n",
       "      <th>but</th>\n",
       "      <td>2044370</td>\n",
       "    </tr>\n",
       "    <tr>\n",
       "      <th>on</th>\n",
       "      <td>2005822</td>\n",
       "    </tr>\n",
       "    <tr>\n",
       "      <th>book</th>\n",
       "      <td>1926798</td>\n",
       "    </tr>\n",
       "    <tr>\n",
       "      <th>have</th>\n",
       "      <td>1855920</td>\n",
       "    </tr>\n",
       "    <tr>\n",
       "      <th>my</th>\n",
       "      <td>1833148</td>\n",
       "    </tr>\n",
       "    <tr>\n",
       "      <th>as</th>\n",
       "      <td>1572125</td>\n",
       "    </tr>\n",
       "  </tbody>\n",
       "</table>\n",
       "</div>"
      ],
      "text/plain": [
       "         Count\n",
       "the   14154918\n",
       "and    7638266\n",
       "to     6908092\n",
       "of     5651302\n",
       "it     5643243\n",
       "this   5208409\n",
       "is     4964241\n",
       "in     3283363\n",
       "for    3144829\n",
       "that   2772709\n",
       "was    2407265\n",
       "not    2315598\n",
       "you    2238534\n",
       "with   2065733\n",
       "but    2044370\n",
       "on     2005822\n",
       "book   1926798\n",
       "have   1855920\n",
       "my     1833148\n",
       "as     1572125"
      ]
     },
     "execution_count": 4,
     "metadata": {},
     "output_type": "execute_result"
    }
   ],
   "source": [
    "df.head(20) # 20 most frequent words"
   ]
  },
  {
   "cell_type": "markdown",
   "metadata": {},
   "source": [
    "## Plot word frequencies and expected Zipf's distribution"
   ]
  },
  {
   "cell_type": "code",
   "execution_count": 7,
   "metadata": {},
   "outputs": [
    {
     "data": {
      "text/plain": [
       "<matplotlib.legend.Legend at 0x7fa9042b6780>"
      ]
     },
     "execution_count": 7,
     "metadata": {},
     "output_type": "execute_result"
    },
    {
     "data": {
      "image/png": "[encoded data removed]",
      "text/plain": [
       "<matplotlib.figure.Figure at 0x7fa8fd8b9080>"
      ]
     },
     "metadata": {},
     "output_type": "display_data"
    }
   ],
   "source": [
    "n_words = 100\n",
    "x = np.arange(n_words)\n",
    "y = df.iloc[:n_words, 0]\n",
    "most_frequent_word = y[0]\n",
    "expected_zipf = [most_frequent_word / (i + 1) for i in range(n_words)]\n",
    "\n",
    "plt.figure(figsize=(15, 8))\n",
    "plt.bar(x, y, alpha=0.3, color='b')\n",
    "plt.plot(x, expected_zipf, color='r', linestyle='--', linewidth=2, alpha=0.7)\n",
    "\n",
    "plt.xlim([-1, n_words])\n",
    "plt.xlabel('Rank')\n",
    "plt.ylabel('Frequency')\n",
    "plt.title('Top {} words in reviews'.format(n_words))\n",
    "plt.legend(['Expected', 'Actual'])"
   ]
  },
  {
   "cell_type": "markdown",
   "metadata": {},
   "source": [
    "X axis is rank of frequency from highest rank from left up to 100th rank to the right.\n",
    "\n",
    "Y axis is frequency of words in given corpus.\n",
    "\n",
    "We can see that plot follows the trend of Zipf's law. Actual observations in most cases does not strictly follow Zipf’s distribution, but rather follow a trend of “near-Zipfian” distribution."
   ]
  }
 ],
 "metadata": {
  "kernelspec": {
   "display_name": "Python 3",
   "language": "python",
   "name": "python3"
  },
  "language_info": {
   "codemirror_mode": {
    "name": "ipython",
    "version": 3
   },
   "file_extension": ".py",
   "mimetype": "text/x-python",
   "name": "python",
   "nbconvert_exporter": "python",
   "pygments_lexer": "ipython3",
   "version": "3.5.2"
  }
 },
 "nbformat": 4,
 "nbformat_minor": 2
}
